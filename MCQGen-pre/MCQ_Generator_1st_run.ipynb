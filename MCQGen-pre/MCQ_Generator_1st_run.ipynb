{
 "cells": [
  {
   "cell_type": "code",
   "execution_count": null,
   "metadata": {},
   "outputs": [],
   "source": [
    "import openai\n",
    "import os\n",
    "import support\n",
    "\n",
    "#from nltk.tokenize import sent_tokenize\n",
    "#import re\n",
    "#import nltk\n",
    "#import backup_support\n",
    "\n",
    "from dotenv import load_dotenv, find_dotenv\n",
    "\n",
    "_ = load_dotenv(find_dotenv())\n",
    "\n",
    "openai.api_key = os.getenv(\"OPENAI_API_KEY\")\n",
    "\n",
    "m = open('QuestionDatabase.txt', 'w')\n",
    "m.close()\n"
   ]
  },
  {
   "cell_type": "code",
   "execution_count": null,
   "metadata": {},
   "outputs": [],
   "source": [
    "def get_completion_from_messages(messages, model = 'gpt-3.5-turbo', temperature = 0, top_p = 0.9, max_tokens = 500):\n",
    "    response = openai.ChatCompletion.create(\n",
    "        messages = messages,\n",
    "        model = model,\n",
    "        temperature = temperature,\n",
    "        top_p = top_p,\n",
    "        max_tokens = max_tokens,\n",
    "    )\n",
    "    \n",
    "    return response.choices[0].message['content']"
   ]
  },
  {
   "cell_type": "code",
   "execution_count": null,
   "metadata": {},
   "outputs": [],
   "source": [
    "summarised = {\n",
    "  \"1\": \"Madagascar's forests are being converted to agricultural land due to insect pests destroying crops, leading to habitat and biodiversity loss, but some insectivorous bats are thriving and providing pest control services.\",\n",
    "  \"2\": \"A study by zoologist Ricardo Rocha shows that bats are helping rice farmers in Madagascar by eating insects, which can reduce the need for deforestation.\",\n",
    "  \"3\": \"Madagascar is an important region for bat conservation, with one-fifth of all mammal species being bats.\",\n",
    "  \"4\": \"Several species of indigenous bats in Madagascar are taking advantage of habitat modification to hunt insects above rice fields.\",\n",
    "  \"5\": \"Six species of bat in Madagascar are preying on rice pests, which cause financial pressure on farmers and encourage deforestation.\",\n",
    "  \"6\": \"A study investigated the feeding activity of bats in farmland bordering a national park in Madagascar.\",\n",
    "  \"7\": \"Researchers used ultrasonic recorders and DNA barcoding techniques to study bat feeding habits in different sites.\",\n",
    "  \"8\": \"Bats preferentially forage in rice fields due to lack of water and nutrient run-off, and DNA analysis showed they fed on economically important insect pests.\",\n",
    "  \"9\": \"The study is the first to show bats acting as pest controllers in Madagascar, benefiting both farmers and conservationists.\",\n",
    "  \"10\": \"Malagasy bats also feed on disease-carrying mosquitoes and blackflies, providing additional benefits to local people.\",\n",
    "  \"11\": \"The relationship between bats and local people in Madagascar is complicated, as bats are a source of protein but can also be seen as unclean, yet they are associated with sacred caves and the ancestors.\",\n",
    "  \"12\": \"Maximizing bat populations can help boost crop yields and promote sustainable livelihoods, and further research is needed to quantify this contribution.\"\n",
    "}\n",
    "\n",
    "m = open('QuestionDatabase.txt', 'a')\n",
    "m.write(f\"\"\"summarised: {summarised}\"\"\")\n",
    "m.close()"
   ]
  },
  {
   "cell_type": "code",
   "execution_count": null,
   "metadata": {},
   "outputs": [],
   "source": [
    "f = open('Passage.txt', 'r')\n",
    "\n",
    "questions = support.extract_questions(f.read())\n",
    "\n",
    "\n",
    "questions_list = list(questions.values())\n",
    "\n",
    "\n",
    "question = questions_list[2]\n",
    "\n",
    "question_list = {'question': question}\n"
   ]
  },
  {
   "cell_type": "code",
   "execution_count": null,
   "metadata": {},
   "outputs": [],
   "source": [
    "m = open('QuestionDatabase.txt', 'a')\n",
    "m.write(f\"\"\"\\n\\n question_list = {str(question_list)}\"\"\")\n",
    "m.close()"
   ]
  },
  {
   "cell_type": "code",
   "execution_count": null,
   "metadata": {},
   "outputs": [],
   "source": [
    "\n",
    "#for info in sample.values():\n",
    "infos = support.extract_infos_statement(question)\n",
    "print(infos, \"\\n\")\n",
    "\n",
    "info = {}\n",
    "info['actor'] = infos['actor']\n",
    "info['acted upon'] = infos['acted upon']\n",
    "\n",
    "print(info)\n",
    "\n",
    "\n",
    "#Change the format into JSON for clean visuals\n",
    "#JSON format outputs"
   ]
  },
  {
   "cell_type": "code",
   "execution_count": null,
   "metadata": {},
   "outputs": [],
   "source": [
    "MCQ_questions_for_statement = support.generate_questions_for_statement(infos, question, summarised)\n",
    "print(MCQ_questions_for_statement)\n",
    "#Instead of picking word, run loop through dict, avoid those with None\n",
    "\n",
    "#Find out ways to prevent hallucinations\n",
    "#Turn it into a flow"
   ]
  },
  {
   "cell_type": "code",
   "execution_count": null,
   "metadata": {},
   "outputs": [],
   "source": [
    "m = open('QuestionDatabase.txt', 'a')\n",
    "m.write(f\"\"\"\\n\\n MCQ_questions_for_statements: {MCQ_questions_for_statement}\"\"\")\n",
    "m.close()\n"
   ]
  },
  {
   "cell_type": "code",
   "execution_count": null,
   "metadata": {},
   "outputs": [],
   "source": [
    "location = support.output_to_string(support.find_location_of_answers(summarised, infos))\n",
    "print(location)\n",
    "question_location = support.output_to_string(support.generate_questions_for_locations(infos, summarised[location[\"paragraph\"]]))\n",
    "print(question_location)\n",
    "\n",
    "question_for_statement = {\n",
    "    'question': question_location['question'],\n",
    "    'answer': location['paragraph'],\n",
    "    'explanation': location['explanation']\n",
    "}"
   ]
  },
  {
   "cell_type": "code",
   "execution_count": null,
   "metadata": {},
   "outputs": [],
   "source": [
    "m = open('QuestionDatabase.txt', 'a')\n",
    "m.write(f\"\"\"\\n\\n question_for_statement: {question_for_statement}\"\"\")\n",
    "m.close()"
   ]
  },
  {
   "cell_type": "code",
   "execution_count": null,
   "metadata": {},
   "outputs": [],
   "source": [
    "def collect_messages(_):\n",
    "    prompt = inp.value_input\n",
    "    inp.value = ''\n",
    "    if prompt != '':\n",
    "        context.append({'role':'user', 'content':f\"{prompt}\"})\n",
    "        panels.append(\n",
    "            pn.Row('User:', pn.pane.Markdown(prompt, width=600)))\n",
    "        response = get_completion_from_messages(context) \n",
    "        context.append({'role':'assistant', 'content':f\"{response}\"})\n",
    "\n",
    "        panels.append(\n",
    "            pn.Row('Assistant:', pn.pane.Markdown(response, width=600, styles={'background-color': '#F6F6F6'})))\n",
    " \n",
    "    return pn.Column(*panels)"
   ]
  },
  {
   "cell_type": "code",
   "execution_count": null,
   "metadata": {},
   "outputs": [],
   "source": [
    "import panel as pn\n",
    "pn.extension()\n",
    "\n",
    "panels = []\n",
    "m = open('QuestionDatabase.txt', 'r')\n",
    "\n",
    "context = [\n",
    "    {'role': 'system', 'content': \"\"\"\n",
    "You are an IELTS Reading assistant who will guide the user through a given question in the QuestionDatabase.txt. \\\n",
    "You will be given a file. Here are what you should do:\n",
    "- Step 1: Find a dictionary called \"question_list\", then ask the user if the question_list matches the questions the user input.\\\n",
    "Wait for user input.\n",
    "\n",
    "- Step 2: Then, mention that you will go through each question with the user.\n",
    "\n",
    "- Step 3: Find a dictionary called \"MCQ_questions_for_statement\" and ask the user the questions one by one.\\\n",
    "For each question, If the user input the correct answer, congratulate the user and move on to the next question.\n",
    "If the user input the wrong answer, explain why it's wrong without mentioning the correct answer, and let the user input again.\n",
    "Do not continue until the user gets the right option.\n",
    "\n",
    "- Step 4: Find a dictionary called \"question_for_statement\". Find the key \"question\" in it and ask the user.\n",
    "Wait for the user input.\n",
    "Then, check the user's input with the value in the key 'answer' in the dictionary.\n",
    "If they are similar, congratulate the user and move on to the next step.\n",
    "If they are not similar, explain why the user is wrong and let the user input again.\n",
    "Do not continue until the user gives the right answer.\n",
    "\n",
    "\n",
    "\"\"\"},\n",
    "    {'role': 'user', 'content': m.read()},\n",
    "]\n",
    "\n",
    "inp = pn.widgets.TextInput(value=\"Hi\", placeholder='Enter text here…')\n",
    "button_conversation = pn.widgets.Button(name=\"Chat!\")\n",
    "\n",
    "interactive_conversation = pn.bind(collect_messages, button_conversation)\n",
    "\n",
    "dashboard = pn.Column(\n",
    "    inp,\n",
    "    pn.Row(button_conversation),\n",
    "    pn.panel(interactive_conversation, loading_indicator=True, height=300),\n",
    ")\n",
    "\n",
    "dashboard   "
   ]
  }
 ],
 "metadata": {
  "language_info": {
   "name": "python"
  },
  "orig_nbformat": 4
 },
 "nbformat": 4,
 "nbformat_minor": 2
}
